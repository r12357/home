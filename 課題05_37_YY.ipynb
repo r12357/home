{
  "nbformat": 4,
  "nbformat_minor": 0,
  "metadata": {
    "colab": {
      "provenance": [],
      "include_colab_link": true
    },
    "kernelspec": {
      "name": "python3",
      "display_name": "Python 3"
    },
    "language_info": {
      "name": "python"
    }
  },
  "cells": [
    {
      "cell_type": "markdown",
      "metadata": {
        "id": "view-in-github",
        "colab_type": "text"
      },
      "source": [
        "<a href=\"https://colab.research.google.com/github/r12357/home.github.io/blob/main/%E8%AA%B2%E9%A1%8C05_37_YY.ipynb\" target=\"_parent\"><img src=\"https://colab.research.google.com/assets/colab-badge.svg\" alt=\"Open In Colab\"/></a>"
      ]
    },
    {
      "cell_type": "markdown",
      "source": [
        "# **双対数による多項式の自動微分**\n",
        "\n",
        "## **概要**\n",
        "\n",
        "\n",
        "多項式$P(x)=a_0+a_1x+a_2x^2+\\cdots + a_nx^n$が与えられたとき、双対数$\\varepsilon$を用いて微分の定義を用いることなく$\\displaystyle \\frac{\\mathrm{d}P(x)}{\\mathrm{d}x}$と、$x=a$においての微分係数を計算するプログラムです。\n",
        "\n",
        "\n",
        "\n",
        "## **操作方法**\n",
        "\n",
        "多項式の係数を入力するとき、カンマ区切りで数字を入力し$a_0$から$a_n$の順に数字が入っていきます。$x^i\\ (0\\leq i\\leq n)$の項を$0$にしたいとき、$a_i$を$0$として入力します。例えば$1+4x+5x^3$と入力したいとき、$1,4,0,5$と入力します。\n",
        "\n",
        "## **制作者のコメント**\n",
        "\n",
        "行列を初めて使いました。双対数による自動微分は\n",
        "多項式に代入すること。\n",
        "あとは計算するだけ。なのでコンピューターと非常に相性がいいです。\n",
        "\n",
        "## **作成時間**\n",
        "\n",
        "作成時間：**約5時間**"
      ],
      "metadata": {
        "id": "BNb7I1FCMlFJ"
      }
    },
    {
      "cell_type": "code",
      "source": [
        "#@title プログラムの実行に必要なパッケージのインストール\n",
        "# パッケージのインストールが不要の場合は、このセルを削除してください。\n",
        "!pip install sympy"
      ],
      "metadata": {
        "id": "49jI4Te8OEaL",
        "colab": {
          "base_uri": "https://localhost:8080/"
        },
        "outputId": "f5a89f42-ba1a-4a0e-e41a-efa517532836"
      },
      "execution_count": 38,
      "outputs": [
        {
          "output_type": "stream",
          "name": "stdout",
          "text": [
            "Requirement already satisfied: sympy in /usr/local/lib/python3.10/dist-packages (1.12)\n",
            "Requirement already satisfied: mpmath>=0.19 in /usr/local/lib/python3.10/dist-packages (from sympy) (1.3.0)\n"
          ]
        }
      ]
    },
    {
      "cell_type": "code",
      "source": [
        "#@title 初期化 ( %reset -f )\n",
        "%reset -f"
      ],
      "metadata": {
        "id": "NGuL7doEPtzI"
      },
      "execution_count": 39,
      "outputs": []
    },
    {
      "cell_type": "code",
      "source": [
        "#@title サブ処理\n",
        "# 各種ライブラリのインポート\n",
        "# データやパラメータ設定\n",
        "# 関数やクラスなどの定義\n",
        "import sympy\n",
        "from IPython.display import display, Markdown\n",
        "\n",
        "ep = sympy.Matrix([\n",
        "    [0,1],\n",
        "    [0,0]\n",
        "])\n",
        "E = sympy.Matrix([\n",
        "    [1,0],\n",
        "    [0,1]\n",
        "])\n",
        "sympy.var(\"x\")\n",
        "#@markdown ### **プログラム設定**\n",
        "\n",
        "#@markdown **係数の指定**\n",
        "coefficient = 1,2,3,4,5,6,7,8,9,10,11,12,13,14,15,16,0,0,0,0,0,0,12,122,0,0,273,-31269123,3123919238,31273918371 # @param {type:\"raw\"}\n",
        "coe_len = len(coefficient)\n",
        "pol = 0\n",
        "for num in range(coe_len):\n",
        "  pol += coefficient[num]*x**num\n",
        "display(Markdown(rf\"$入力された多項式\\\\ {sympy.latex(pol)}$\"))\n",
        "#@markdown **x=aにおいての微分係数**\n",
        "a = 19 #@param {type:\"number\"}\n",
        "\n",
        "X_a = a*E + ep\n",
        "X = x*E + ep"
      ],
      "metadata": {
        "id": "mrFGdchoP2dL",
        "colab": {
          "base_uri": "https://localhost:8080/",
          "height": 93
        },
        "outputId": "6b5856c8-a069-4c48-f76b-4ebd50785b0f"
      },
      "execution_count": 42,
      "outputs": [
        {
          "output_type": "display_data",
          "data": {
            "text/plain": [
              "<IPython.core.display.Markdown object>"
            ],
            "text/markdown": "$入力された多項式\\\\ 31273918371 x^{29} + 3123919238 x^{28} - 31269123 x^{27} + 273 x^{26} + 122 x^{23} + 12 x^{22} + 16 x^{15} + 15 x^{14} + 14 x^{13} + 13 x^{12} + 12 x^{11} + 11 x^{10} + 10 x^{9} + 9 x^{8} + 8 x^{7} + 7 x^{6} + 6 x^{5} + 5 x^{4} + 4 x^{3} + 3 x^{2} + 2 x + 1$"
          },
          "metadata": {}
        }
      ]
    },
    {
      "cell_type": "code",
      "source": [
        "#@title メイン処理\n",
        "\n",
        "# プログラムのなかには適切にコメントを記述してください。\n",
        "\n",
        "dP = coefficient[0]*E\n",
        "dP_a = coefficient[0]*E\n",
        "# 代入処理\n",
        "for i in range(1,len(coefficient)):\n",
        "  dP += coefficient[i]*X**i\n",
        "  dP_a += coefficient[i]*X_a ** i\n",
        "\n",
        "display(Markdown(rf\"$\\frac{{\\mathrm{{d}}P(x)}}{{\\mathrm{{d}}x}} = {sympy.latex(dP[0,1])}$\"))# P(x)の導関数\n",
        "display(Markdown(rf\"$\\frac{{ \\mathrm{{d}}P({a}) }}{{ \\mathrm{{d}}x }} = {sympy.latex((dP_a[0,1]))}$\"))# P(x)のx=aにおいての微分係数\n"
      ],
      "metadata": {
        "id": "3hbrnlgjPcf4",
        "colab": {
          "base_uri": "https://localhost:8080/",
          "height": 103
        },
        "outputId": "0a478577-461c-4289-aac7-aee967b8fcff"
      },
      "execution_count": 52,
      "outputs": [
        {
          "output_type": "display_data",
          "data": {
            "text/plain": [
              "<IPython.core.display.Markdown object>"
            ],
            "text/markdown": "$\\frac{\\mathrm{d}P(x)}{\\mathrm{d}x} = 906943632759 x^{28} + 87469738664 x^{27} - 844266321 x^{26} + 7098 x^{25} + 2806 x^{22} + 264 x^{21} + 240 x^{14} + 210 x^{13} + 182 x^{12} + 156 x^{11} + 132 x^{10} + 110 x^{9} + 90 x^{8} + 72 x^{7} + 56 x^{6} + 42 x^{5} + 30 x^{4} + 20 x^{3} + 12 x^{2} + 6 x + 2$"
          },
          "metadata": {}
        },
        {
          "output_type": "display_data",
          "data": {
            "text/plain": [
              "<IPython.core.display.Markdown object>"
            ],
            "text/markdown": "$\\frac{ \\mathrm{d}P(19) }{ \\mathrm{d}x } = 581940955778462581605158199795935672088969756466$"
          },
          "metadata": {}
        }
      ]
    }
  ]
}